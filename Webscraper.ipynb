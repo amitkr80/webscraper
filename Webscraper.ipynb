{
 "cells": [
  {
   "cell_type": "markdown",
   "metadata": {},
   "source": [
    "## Review scraper Test"
   ]
  },
  {
   "cell_type": "code",
   "execution_count": 4,
   "metadata": {},
   "outputs": [
    {
     "name": "stdout",
     "output_type": "stream",
     "text": [
      "[{'reviewId': 'gp:AOqpTOHCCIZmC2UC-AMw2YtDoAwVo3kxWT_eQvTyKWoKbPsRHOklF5b8QDNcYojLLmab21Gt_hVuFs4jel7Merg', 'userName': 'punjabi item', 'userImage': 'https://lh3.googleusercontent.com/a-/AOh14GhYx5oEgWeFiGfroqsB485BGcjUntRvg7L2lpWa', 'content': 'Osmmmmm', 'score': 5, 'thumbsUpCount': 0, 'reviewCreatedVersion': '3.47.3', 'at': datetime.datetime(2018, 9, 22, 18, 13, 20), 'replyContent': None, 'repliedAt': None}, {'reviewId': 'gp:AOqpTOEGC4Kih57MhUXIeyxs_MoRzDEiU6dRNc7r8nYtiBxNuiBjY2AVpN_NxQ-su5PbC2HaFbuAo49QjbP7tvk', 'userName': 'Kavitha Rameshbabu', 'userImage': 'https://play-lh.googleusercontent.com/-1bCDUC5LlwY/AAAAAAAAAAI/AAAAAAAAAAA/AMZuucmOOi7wzT8aErnJDwXLqCO1Ez19Ig/photo.jpg', 'content': \"YouTube kids is best and safe for children's shows. This app is oriented \\nfor children's growth and activities\", 'score': 5, 'thumbsUpCount': 0, 'reviewCreatedVersion': None, 'at': datetime.datetime(2018, 5, 16, 15, 51, 30), 'replyContent': None, 'repliedAt': None}, {'reviewId': 'gp:AOqpTOHwCjpnht_qHDcwLC_XzS_MVGynf0X7aFq43sEHII5U4N1FFeoE-Ts6aB4hnD9wRUmXFE-kZvue2PsyU-w', 'userName': 'A Google user', 'userImage': 'https://play-lh.googleusercontent.com/EGemoI2NTXmTsBVtJqk8jxF9rh8ApRWfsIMQSt2uE4OcpQqbFu7f7NbTK05lx80nuSijCz7sc3a277R67g', 'content': 'I think it Awesome', 'score': 5, 'thumbsUpCount': 0, 'reviewCreatedVersion': None, 'at': datetime.datetime(2018, 3, 28, 4, 14, 20), 'replyContent': None, 'repliedAt': None}, {'reviewId': 'gp:AOqpTOHn0Sc5H4PI5VMwzX2TKtzKi5Gl6vztb-MBdx1ew5Vf9uTROJDhXYJPyZNLHwFFoCW3OCIbReZbgdIvPDw', 'userName': 'Priyanka Patel', 'userImage': 'https://lh3.googleusercontent.com/-gZCP7dCP-LE/AAAAAAAAAAI/AAAAAAAAAAA/AMZuucmV3kJUfzfAkQIBRIjWEotTZJJ0rQ/photo.jpg', 'content': 'nice app', 'score': 5, 'thumbsUpCount': 0, 'reviewCreatedVersion': '4.20.1', 'at': datetime.datetime(2019, 6, 16, 9, 48, 59), 'replyContent': None, 'repliedAt': None}, {'reviewId': 'gp:AOqpTOGt1qn4w8YuGOtShJ_a-6MeUzFGZ_7y4d-lK7Gl5LXQv70Fi5EQ4ANAWIkv0mAKsheadXUTz__wWgv9gnU', 'userName': 'Aislyn Buchanan', 'userImage': 'https://lh3.googleusercontent.com/a-/AOh14GjzyD4A2QOG8M5yuWXzPahaJO82r4FJyLADc1bc', 'content': 'Iove it', 'score': 5, 'thumbsUpCount': 1, 'reviewCreatedVersion': '3.14.2', 'at': datetime.datetime(2018, 2, 11, 9, 58, 3), 'replyContent': None, 'repliedAt': None}]\n"
     ]
    }
   ],
   "source": [
    "from google_play_scraper import Sort, reviews\n",
    "import re\n",
    "import sys\n",
    "\n",
    "result, continuation_token = reviews(\n",
    "    'com.google.android.apps.youtube.kids',\n",
    "    lang='en', # defaults to 'EN'\n",
    "    country='us', # defaults to 'US'\n",
    "    sort=Sort.RATING, #as we want data based on Rating. specify \"None\" which defaults to Sort.MOST_RELEVANT\n",
    "    count=5, # the counter starts at index 1, defaults count is 100 reviews unless specified\n",
    "    filter_score_with=5 # sort RATING based on the filter. specify \"None\" if sort specified as default\n",
    ")\n",
    "\n",
    "# If we pass 'continuation_token' as an argument to the reviews function at this point,\n",
    "# it will crawl the items after \"i-th\" review item.\n",
    "          \n",
    "result, _ = reviews(\n",
    "    'com.google.android.apps.youtube.kids',\n",
    "    continuation_token=continuation_token # defaults to None(load from the beginning)\n",
    "    )\n",
    "\n",
    "txt_extract = str(result)\n",
    "encoded_string = txt_extract.encode(\"ascii\", \"ignore\")\n",
    "decode_string = encoded_string.decode()\n",
    "print(decode_string)\n"
   ]
  },
  {
   "cell_type": "markdown",
   "metadata": {},
   "source": [
    "## Review Scrap using Google-Play-Scraper in Python"
   ]
  },
  {
   "cell_type": "code",
   "execution_count": 16,
   "metadata": {
    "colab": {
     "base_uri": "https://localhost:8080/",
     "height": 1000
    },
    "colab_type": "code",
    "id": "Tc6ToXPZ_xsS",
    "outputId": "f3f150e4-87e0-43b0-d8c9-f5ce1c08d86f"
   },
   "outputs": [
    {
     "name": "stdout",
     "output_type": "stream",
     "text": [
      "i :  1\n",
      "username:  Yusuf Patel\n",
      "date & time:  2019,1,29,15,35\n",
      "rating:  5\n",
      "likes:  0\n",
      "review:  'nice' \n",
      "\n",
      "i :  2\n",
      "username:  Vishakha Muley\n",
      "date & time:  2019,11,11,16,26,55\n",
      "rating:  5\n",
      "likes:  0\n",
      "review:  'Very nice app' \n",
      "\n",
      "i :  3\n",
      "username:  Nathan Agda\n",
      "date & time:  2017,1,5,5,32,36\n",
      "rating:  5\n",
      "likes:  0\n",
      "review:  'Love it' \n",
      "\n",
      "i :  4\n",
      "username:  Betty Rogers\n",
      "date & time:  2020,3,21,3,4,1\n",
      "rating:  5\n",
      "likes:  2\n",
      "review:  'Good' \n",
      "\n",
      "i :  5\n",
      "username:  punjabi item\n",
      "date & time:  2018,9,22,18,13,20\n",
      "rating:  5\n",
      "likes:  0\n",
      "review:  'Osmmmmm' \n",
      "\n"
     ]
    }
   ],
   "source": [
    "from google_play_scraper import Sort, reviews\n",
    "import re\n",
    "import sys\n",
    "\n",
    "for i in range (1,6):\n",
    "    try:\n",
    "        result, continuation_token = reviews(\n",
    "            'com.google.android.apps.youtube.kids',\n",
    "            lang='en', # defaults to 'EN'\n",
    "            country='us', # defaults to 'US'\n",
    "            sort=Sort.RATING, #as we want data based on Rating. specify \"None\" which defaults to Sort.MOST_RELEVANT\n",
    "            count=i, # the counter starts at index 1, defaults count is 100 reviews unless specified\n",
    "            filter_score_with=5 # sort RATING based on the filter. specify \"None\" if sort specified as default\n",
    "        )\n",
    "\n",
    "        # If we pass 'continuation_token' as an argument to the reviews function at this point,\n",
    "        # it will crawl the items after \"i-th\" review item.\n",
    "          \n",
    "        result, _ = reviews(\n",
    "            'com.google.android.apps.youtube.kids',\n",
    "            continuation_token=continuation_token # defaults to None(load from the beginning)\n",
    "        )\n",
    "        \n",
    "        print(\"i : \",i)\n",
    "        txt_extract = str(result)\n",
    "        encoded_string = txt_extract.encode(\"ascii\", \"ignore\")\n",
    "        decode_string = encoded_string.decode()\n",
    "        txt = decode_string\n",
    "        \n",
    "        # pre-cleaning of each review before storing into the file app_review.csv\n",
    "        txt = re.sub(\"'\",\"\",txt)\n",
    "        txt = re.sub(\"\\\"\",\"\",txt)\n",
    "        txt = re.sub(\"#\",\"\",txt)\n",
    "        \n",
    "        # extracting username\n",
    "        user = txt.split('userName: ')[1].split(', userImage')[0]\n",
    "        \n",
    "        # extracting rating\n",
    "        rating = txt.split('score: ')[1].split(', thumbsUpCount')[0]\n",
    "        \n",
    "        # extracting likes\n",
    "        upvote = txt.split('thumbsUpCount: ')[1].split(', reviewCreatedVersion')[0]\n",
    "        \n",
    "        # breaking the datetime in each review to year, month, day, hour, minute, second\n",
    "        datetime = re.search('datetime.datetime\\((.+?)\\),', txt).group(1)\n",
    "        datetime = re.sub(\", \",\",\",datetime)\n",
    "        \n",
    "        # extracting review\n",
    "        review = re.search('content: (.+?), score', txt).group(1)\n",
    "        review = re.sub(\"!\",\"\",review)\n",
    "        review = re.sub(\",\",\"\",review)\n",
    "        review = \"'\"+review+\"'\"\n",
    "        \n",
    "        print(\"username: \",user)\n",
    "        print(\"date & time: \",datetime)\n",
    "        print(\"rating: \",rating)\n",
    "        print(\"likes: \",upvote)\n",
    "        print(\"review: \",review, '\\n')\n",
    "\n",
    "        # created and opened file in append mode\n",
    "        file = open('app_review.csv','a')\n",
    "        file.write(user+', '+rating+', '+upvote+', '+review+', '+datetime+'\\n')\n",
    "\n",
    "    finally:\n",
    "        file.close()"
   ]
  }
 ],
 "metadata": {
  "colab": {
   "authorship_tag": "ABX9TyOx1cECIdRrPyYzYT7DkKgt",
   "collapsed_sections": [],
   "name": "Webscraper_1.ipynb",
   "provenance": []
  },
  "kernelspec": {
   "display_name": "Python 3",
   "language": "python",
   "name": "python3"
  },
  "language_info": {
   "codemirror_mode": {
    "name": "ipython",
    "version": 3
   },
   "file_extension": ".py",
   "mimetype": "text/x-python",
   "name": "python",
   "nbconvert_exporter": "python",
   "pygments_lexer": "ipython3",
   "version": "3.7.6"
  }
 },
 "nbformat": 4,
 "nbformat_minor": 1
}
