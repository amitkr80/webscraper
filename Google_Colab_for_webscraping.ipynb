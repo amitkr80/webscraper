{
  "nbformat": 4,
  "nbformat_minor": 0,
  "metadata": {
    "colab": {
      "name": "Google_Colab_for_webscraping.ipynb",
      "provenance": [],
      "collapsed_sections": []
    },
    "kernelspec": {
      "name": "python3",
      "display_name": "Python 3"
    }
  },
  "cells": [
    {
      "cell_type": "code",
      "metadata": {
        "id": "SkKLZ1_1Y-CH",
        "colab_type": "code",
        "colab": {
          "base_uri": "https://localhost:8080/",
          "height": 35
        },
        "outputId": "0ec60423-c79b-47f9-eb18-3097fd847a4a"
      },
      "source": [
        "pip install google_play_scraper"
      ],
      "execution_count": null,
      "outputs": [
        {
          "output_type": "stream",
          "text": [
            "Requirement already satisfied: google_play_scraper in /usr/local/lib/python3.6/dist-packages (0.1.1)\n"
          ],
          "name": "stdout"
        }
      ]
    },
    {
      "cell_type": "code",
      "metadata": {
        "id": "7P8u0RKBvBGY",
        "colab_type": "code",
        "colab": {
          "base_uri": "https://localhost:8080/",
          "height": 35
        },
        "outputId": "9976029c-d989-44d5-b317-97ac967d5381"
      },
      "source": [
        "import os\n",
        "\n",
        "# verifying and removing the file, if exists from google drive\n",
        "\n",
        "if os.path.exists(\"app_review.csv\"):\n",
        "  os.remove(\"app_review.csv\")\n",
        "  print(\"The file is deleted.\")\n",
        "else:\n",
        "  print(\"The file does not exist.\")"
      ],
      "execution_count": null,
      "outputs": [
        {
          "output_type": "stream",
          "text": [
            "The file does not exist.\n"
          ],
          "name": "stdout"
        }
      ]
    },
    {
      "cell_type": "code",
      "metadata": {
        "id": "Tc6ToXPZ_xsS",
        "colab_type": "code",
        "colab": {
          "base_uri": "https://localhost:8080/",
          "height": 329
        },
        "outputId": "9760a8d8-0621-4a39-caef-51b66283e05a"
      },
      "source": [
        "import multiprocessing\n",
        "from google_play_scraper import Sort, reviews\n",
        "import re\n",
        "import sys\n",
        "\n",
        "\n",
        "for i in range (1,4):\n",
        "  try:\n",
        "    result, continuation_token = reviews(\n",
        "      'com.google.android.apps.youtube.kids',\n",
        "      lang='en', # defaults to 'en'\n",
        "      country='us', # defaults to 'us'\n",
        "      sort=Sort.RATING, # None, defaults to Sort.MOST_RELEVANT\n",
        "      count=i, # defaults to 100\n",
        "      filter_score_with=5\n",
        "    )\n",
        "\n",
        "    # If we pass 'continuation_token' as an argument to the reviews function at this point,\n",
        "    # it will crawl the items after \"i-th\" review item.\n",
        "          \n",
        "    result, _ = reviews(\n",
        "      'com.google.android.apps.youtube.kids',\n",
        "      continuation_token=continuation_token # defaults to None(load from the beginning)\n",
        "    )\n",
        "\n",
        "    # remove unicode characters from data\n",
        "    txt_extract = str(result)\n",
        "    encoded_string = txt_extract.encode(\"ascii\", \"ignore\")\n",
        "    decode_string = encoded_string.decode()\n",
        "    txt = decode_string\n",
        "        \n",
        "    # pre-cleaning of each review before storing into the file app_review.csv\n",
        "    txt = re.sub(\"'\",\"\",txt)\n",
        "    txt = re.sub(\"\\\"\",\"\",txt)\n",
        "    txt = re.sub(\"#\",\"\",txt)\n",
        "        \n",
        "    # extracting username\n",
        "    user = txt.split('userName: ')[1].split(', userImage')[0]\n",
        "        \n",
        "    # extracting rating\n",
        "    rating = txt.split('score: ')[1].split(', thumbsUpCount')[0]\n",
        "        \n",
        "    # extracting likes\n",
        "    upvote = txt.split('thumbsUpCount: ')[1].split(', reviewCreatedVersion')[0]\n",
        "        \n",
        "    # breaking the datetime in each review to year, month, day, hour, minute, second\n",
        "    datetime = re.search('datetime.datetime\\((.+?)\\),', txt).group(1)\n",
        "    datetime = re.sub(\", \",\",\",datetime)\n",
        "        \n",
        "    # extracting review\n",
        "    review = re.search('content: (.+?), score', txt).group(1)\n",
        "    review = re.sub(\"!\",\"\",review)\n",
        "    review = re.sub(\",\",\"\",review)\n",
        "    review = \"'\"+review+\"'\"\n",
        "\n",
        "    print(\"i : \",i)\n",
        "    print(user)\n",
        "    print(datetime)\n",
        "    print(rating)\n",
        "    print(upvote)\n",
        "    print(review)\n",
        "\n",
        "    # created and opened file in append mode\n",
        "    file = open('app_review.csv','a')\n",
        "    file.write(user+', '+rating+', '+upvote+', '+review+', '+datetime+'\\n')\n",
        "\n",
        "  finally:\n",
        "    file.close()\n"
      ],
      "execution_count": null,
      "outputs": [
        {
          "output_type": "stream",
          "text": [
            "i :  1\n",
            "Yusuf Patel\n",
            "2019,1,29,10,5\n",
            "5\n",
            "0\n",
            "'nice'\n",
            "i :  2\n",
            "Vishakha Muley\n",
            "2019,11,11,10,56,55\n",
            "5\n",
            "0\n",
            "'Very nice app'\n",
            "i :  3\n",
            "Nathan Agda\n",
            "2017,1,5,0,2,36\n",
            "5\n",
            "0\n",
            "'Love it'\n"
          ],
          "name": "stdout"
        }
      ]
    },
    {
      "cell_type": "code",
      "metadata": {
        "id": "IK8frf_eFJsA",
        "colab_type": "code",
        "colab": {}
      },
      "source": [
        "# downloading the .csv file into local drive\n",
        "\n",
        "from google.colab import files\n",
        "files.download('app_review.csv')"
      ],
      "execution_count": null,
      "outputs": []
    }
  ]
}